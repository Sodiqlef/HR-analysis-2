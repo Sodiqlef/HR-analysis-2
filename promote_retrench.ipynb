{
 "cells": [
  {
   "cell_type": "code",
   "execution_count": 1,
   "id": "3c1982ed",
   "metadata": {},
   "outputs": [],
   "source": [
    "#All import\n",
    "import numpy as np\n",
    "import pandas as pd"
   ]
  },
  {
   "cell_type": "code",
   "execution_count": 10,
   "id": "2444ab77",
   "metadata": {},
   "outputs": [],
   "source": [
    "data = pd.read_csv(\"HR employee data.csv\")"
   ]
  },
  {
   "cell_type": "code",
   "execution_count": 11,
   "id": "8746f164",
   "metadata": {},
   "outputs": [],
   "source": [
    "retrenched = pd.read_csv(\"Employees Due for Retrenchment.csv\")"
   ]
  },
  {
   "cell_type": "code",
   "execution_count": 12,
   "id": "9e0c075c",
   "metadata": {},
   "outputs": [],
   "source": [
    "promoted = pd.read_csv(\"Employees Due for Promotion.csv\")"
   ]
  },
  {
   "cell_type": "code",
   "execution_count": 34,
   "id": "d2944923",
   "metadata": {},
   "outputs": [
    {
     "data": {
      "text/plain": [
       "117"
      ]
     },
     "execution_count": 34,
     "metadata": {},
     "output_type": "execute_result"
    }
   ],
   "source": [
    "retrenchedID = retrenched.Number.unique()\n",
    "len(retrenchedID)"
   ]
  },
  {
   "cell_type": "code",
   "execution_count": 33,
   "id": "745bde96",
   "metadata": {},
   "outputs": [
    {
     "data": {
      "text/plain": [
       "72"
      ]
     },
     "execution_count": 33,
     "metadata": {},
     "output_type": "execute_result"
    }
   ],
   "source": [
    "promotedID = promoted.Number.unique()\n",
    "len(promotedID)"
   ]
  },
  {
   "cell_type": "code",
   "execution_count": 32,
   "id": "b9150ba0",
   "metadata": {},
   "outputs": [
    {
     "data": {
      "text/plain": [
       "54"
      ]
     },
     "execution_count": 32,
     "metadata": {},
     "output_type": "execute_result"
    }
   ],
   "source": [
    "promotedANDretrenched = []\n",
    "for ID in retrenchedID:\n",
    "    if ID in promotedID:\n",
    "        promotedANDretrenched.append(ID)\n",
    "\n",
    "len(promotedANDretrenched)\n",
    "        \n"
   ]
  },
  {
   "cell_type": "code",
   "execution_count": 37,
   "id": "ad78d20e",
   "metadata": {},
   "outputs": [
    {
     "data": {
      "text/html": [
       "<div>\n",
       "<style scoped>\n",
       "    .dataframe tbody tr th:only-of-type {\n",
       "        vertical-align: middle;\n",
       "    }\n",
       "\n",
       "    .dataframe tbody tr th {\n",
       "        vertical-align: top;\n",
       "    }\n",
       "\n",
       "    .dataframe thead th {\n",
       "        text-align: right;\n",
       "    }\n",
       "</style>\n",
       "<table border=\"1\" class=\"dataframe\">\n",
       "  <thead>\n",
       "    <tr style=\"text-align: right;\">\n",
       "      <th></th>\n",
       "      <th>EmployeeNumber</th>\n",
       "      <th>Emplyee name</th>\n",
       "    </tr>\n",
       "  </thead>\n",
       "  <tbody>\n",
       "    <tr>\n",
       "      <th>0</th>\n",
       "      <td>1</td>\n",
       "      <td>Barak Sali</td>\n",
       "    </tr>\n",
       "    <tr>\n",
       "      <th>1</th>\n",
       "      <td>2</td>\n",
       "      <td>Mumin Yusha</td>\n",
       "    </tr>\n",
       "    <tr>\n",
       "      <th>2</th>\n",
       "      <td>4</td>\n",
       "      <td>Cordia M Knopp</td>\n",
       "    </tr>\n",
       "    <tr>\n",
       "      <th>3</th>\n",
       "      <td>5</td>\n",
       "      <td>Burton C Jin</td>\n",
       "    </tr>\n",
       "    <tr>\n",
       "      <th>4</th>\n",
       "      <td>7</td>\n",
       "      <td>Femi Grek</td>\n",
       "    </tr>\n",
       "  </tbody>\n",
       "</table>\n",
       "</div>"
      ],
      "text/plain": [
       "   EmployeeNumber    Emplyee name\n",
       "0               1      Barak Sali\n",
       "1               2     Mumin Yusha\n",
       "2               4  Cordia M Knopp\n",
       "3               5    Burton C Jin\n",
       "4               7       Femi Grek"
      ]
     },
     "execution_count": 37,
     "metadata": {},
     "output_type": "execute_result"
    }
   ],
   "source": [
    "data.head()"
   ]
  },
  {
   "cell_type": "code",
   "execution_count": 39,
   "id": "7177efc0",
   "metadata": {},
   "outputs": [],
   "source": [
    "promotion_retrench = data.query(\"EmployeeNumber in @promotedANDretrenched \")"
   ]
  },
  {
   "cell_type": "code",
   "execution_count": 43,
   "id": "b2d189fc",
   "metadata": {},
   "outputs": [],
   "source": [
    "promotion_retrench.to_csv(\"promotion_retrench.csv\")"
   ]
  },
  {
   "cell_type": "code",
   "execution_count": null,
   "id": "f0c466e8",
   "metadata": {},
   "outputs": [],
   "source": []
  }
 ],
 "metadata": {
  "kernelspec": {
   "display_name": "Python 3",
   "language": "python",
   "name": "python3"
  },
  "language_info": {
   "codemirror_mode": {
    "name": "ipython",
    "version": 3
   },
   "file_extension": ".py",
   "mimetype": "text/x-python",
   "name": "python",
   "nbconvert_exporter": "python",
   "pygments_lexer": "ipython3",
   "version": "3.8.8"
  }
 },
 "nbformat": 4,
 "nbformat_minor": 5
}
